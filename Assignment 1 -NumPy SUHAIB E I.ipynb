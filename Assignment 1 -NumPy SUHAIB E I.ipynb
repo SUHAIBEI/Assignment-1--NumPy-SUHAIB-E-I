{
 "cells": [
  {
   "cell_type": "code",
   "execution_count": 15,
   "id": "b41fa853",
   "metadata": {},
   "outputs": [],
   "source": [
    "#Problem 1\n",
    "#Matrix Manipulations"
   ]
  },
  {
   "cell_type": "code",
   "execution_count": 2,
   "id": "f1db2a18",
   "metadata": {},
   "outputs": [],
   "source": [
    "import numpy as np"
   ]
  },
  {
   "cell_type": "code",
   "execution_count": 5,
   "id": "e7b21296",
   "metadata": {},
   "outputs": [],
   "source": [
    "A = np.array([[3,5, 9], [3, 3, 4],[5,9,17]])"
   ]
  },
  {
   "cell_type": "code",
   "execution_count": 6,
   "id": "83aaf879",
   "metadata": {},
   "outputs": [
    {
     "name": "stdout",
     "output_type": "stream",
     "text": [
      "[[ 3  5  9]\n",
      " [ 3  3  4]\n",
      " [ 5  9 17]]\n"
     ]
    }
   ],
   "source": [
    "print(A)"
   ]
  },
  {
   "cell_type": "code",
   "execution_count": 7,
   "id": "780214f1",
   "metadata": {},
   "outputs": [],
   "source": [
    "B=np.array([[2],[1],[4]])"
   ]
  },
  {
   "cell_type": "code",
   "execution_count": 8,
   "id": "e95ba013",
   "metadata": {},
   "outputs": [
    {
     "name": "stdout",
     "output_type": "stream",
     "text": [
      "[[2]\n",
      " [1]\n",
      " [4]]\n"
     ]
    }
   ],
   "source": [
    "print (B)"
   ]
  },
  {
   "cell_type": "code",
   "execution_count": 9,
   "id": "392267df",
   "metadata": {},
   "outputs": [],
   "source": [
    "x = np.linalg.solve(A, B)"
   ]
  },
  {
   "cell_type": "code",
   "execution_count": 14,
   "id": "4f7f68d0",
   "metadata": {},
   "outputs": [
    {
     "name": "stdout",
     "output_type": "stream",
     "text": [
      "[[ 1.]\n",
      " [-2.]\n",
      " [ 1.]]\n"
     ]
    }
   ],
   "source": [
    "print(x)"
   ]
  },
  {
   "cell_type": "code",
   "execution_count": 17,
   "id": "06fe4a93",
   "metadata": {},
   "outputs": [],
   "source": [
    "#Problem 2\n",
    "#Create a result array by adding the following two NumPy arrays.\n",
    "#Next, modify the result array by calculating the square of each element Input:"
   ]
  },
  {
   "cell_type": "code",
   "execution_count": 18,
   "id": "cfb0bd07",
   "metadata": {},
   "outputs": [],
   "source": [
    "import numpy as np"
   ]
  },
  {
   "cell_type": "code",
   "execution_count": 19,
   "id": "a1e8f5a2",
   "metadata": {},
   "outputs": [],
   "source": [
    "arrayOne = np.array([[5, 6, 9], [21, 18, 27]])\n",
    "arrayTwo = np.array([[15, 33, 24], [4, 7, 1]])"
   ]
  },
  {
   "cell_type": "code",
   "execution_count": 23,
   "id": "41813e48",
   "metadata": {},
   "outputs": [],
   "source": [
    "result_array = arrayOne + arrayTwo"
   ]
  },
  {
   "cell_type": "code",
   "execution_count": 24,
   "id": "49e9ad66",
   "metadata": {},
   "outputs": [
    {
     "name": "stdout",
     "output_type": "stream",
     "text": [
      "[[20 39 33]\n",
      " [25 25 28]]\n"
     ]
    }
   ],
   "source": [
    "print(result_array)"
   ]
  },
  {
   "cell_type": "code",
   "execution_count": 21,
   "id": "70bb8c2d",
   "metadata": {},
   "outputs": [],
   "source": [
    "result_array_squared = np.square(result_array)"
   ]
  },
  {
   "cell_type": "code",
   "execution_count": 25,
   "id": "fc319b92",
   "metadata": {},
   "outputs": [
    {
     "name": "stdout",
     "output_type": "stream",
     "text": [
      "\n",
      "Result Array Squared (square of each element):\n"
     ]
    }
   ],
   "source": [
    "print(\"\\nResult Array Squared (square of each element):\")"
   ]
  },
  {
   "cell_type": "code",
   "execution_count": 26,
   "id": "8a7f1287",
   "metadata": {},
   "outputs": [
    {
     "name": "stdout",
     "output_type": "stream",
     "text": [
      "[[ 400 1521 1089]\n",
      " [ 625  625  784]]\n"
     ]
    }
   ],
   "source": [
    "print(result_array_squared)"
   ]
  },
  {
   "cell_type": "code",
   "execution_count": 28,
   "id": "285225a0",
   "metadata": {},
   "outputs": [],
   "source": [
    "#Problem3\n",
    "#Print max from axis 0 and min from axis 1 from the following 2-D array."
   ]
  },
  {
   "cell_type": "code",
   "execution_count": 29,
   "id": "a5b9b1cb",
   "metadata": {},
   "outputs": [],
   "source": [
    "import numpy as np"
   ]
  },
  {
   "cell_type": "code",
   "execution_count": 30,
   "id": "048a0312",
   "metadata": {},
   "outputs": [],
   "source": [
    "sampleArray = np.array([[34, 43, 73], [82, 22, 12], [53, 94, 66]])"
   ]
  },
  {
   "cell_type": "code",
   "execution_count": 31,
   "id": "5ac64cd0",
   "metadata": {},
   "outputs": [],
   "source": [
    "max_axis_0 = np.max(sampleArray, axis=0)"
   ]
  },
  {
   "cell_type": "code",
   "execution_count": 32,
   "id": "6effbc66",
   "metadata": {},
   "outputs": [],
   "source": [
    "min_axis_1 = np.min(sampleArray, axis=1)"
   ]
  },
  {
   "cell_type": "code",
   "execution_count": 33,
   "id": "a3ce9d98",
   "metadata": {},
   "outputs": [
    {
     "name": "stdout",
     "output_type": "stream",
     "text": [
      "Max along axis 0:\n",
      "[82 94 73]\n"
     ]
    }
   ],
   "source": [
    "print(\"Max along axis 0:\")\n",
    "print(max_axis_0)"
   ]
  },
  {
   "cell_type": "code",
   "execution_count": 34,
   "id": "2db2d287",
   "metadata": {},
   "outputs": [
    {
     "name": "stdout",
     "output_type": "stream",
     "text": [
      "\n",
      "Min along axis 1:\n",
      "[34 12 53]\n"
     ]
    }
   ],
   "source": [
    "print(\"\\nMin along axis 1:\")\n",
    "print(min_axis_1)"
   ]
  },
  {
   "cell_type": "code",
   "execution_count": 39,
   "id": "29a62835",
   "metadata": {},
   "outputs": [],
   "source": [
    "#Problem 4\n",
    "#Get the positions where elements of a and b match\n",
    "#Input: a = np.array([1,2,3,2,3,4,3,4,5,6]) b = np.array([7,2,10,2,7,4,9,4,9,8])\n",
    "#Desired Output: array([1, 3, 5, 7])"
   ]
  },
  {
   "cell_type": "code",
   "execution_count": 35,
   "id": "c16dd09d",
   "metadata": {},
   "outputs": [],
   "source": [
    "import numpy as np"
   ]
  },
  {
   "cell_type": "code",
   "execution_count": 36,
   "id": "33876dcf",
   "metadata": {},
   "outputs": [],
   "source": [
    "a = np.array([1, 2, 3, 2, 3, 4, 3, 4, 5, 6])\n",
    "b = np.array([7, 2, 10, 2, 7, 4, 9, 4, 9, 8])"
   ]
  },
  {
   "cell_type": "code",
   "execution_count": 37,
   "id": "ea616c18",
   "metadata": {},
   "outputs": [],
   "source": [
    "matching_positions = np.where(a == b)[0]\n"
   ]
  },
  {
   "cell_type": "code",
   "execution_count": 38,
   "id": "ae8f2ede",
   "metadata": {},
   "outputs": [
    {
     "name": "stdout",
     "output_type": "stream",
     "text": [
      "Desired Output:\n",
      "[1 3 5 7]\n"
     ]
    }
   ],
   "source": [
    "print(\"Desired Output:\")\n",
    "print(matching_positions)"
   ]
  },
  {
   "cell_type": "code",
   "execution_count": null,
   "id": "32df899d",
   "metadata": {},
   "outputs": [],
   "source": []
  },
  {
   "cell_type": "code",
   "execution_count": 40,
   "id": "db6adbd8",
   "metadata": {},
   "outputs": [],
   "source": [
    "import numpy as np"
   ]
  },
  {
   "cell_type": "code",
   "execution_count": 41,
   "id": "99f04083",
   "metadata": {},
   "outputs": [],
   "source": [
    " a= np.array([[1, 2], [3, 4]])\n",
    "b= np.array([[5, 6], [7, 8]])"
   ]
  },
  {
   "cell_type": "code",
   "execution_count": 45,
   "id": "9055c063",
   "metadata": {},
   "outputs": [],
   "source": [
    "merged_matrix_vertical = np.concatenate((a,b), axis=0)"
   ]
  },
  {
   "cell_type": "code",
   "execution_count": 46,
   "id": "d5e0fd25",
   "metadata": {},
   "outputs": [
    {
     "name": "stdout",
     "output_type": "stream",
     "text": [
      "c=\n",
      "[[1 2]\n",
      " [3 4]\n",
      " [5 6]\n",
      " [7 8]]\n"
     ]
    }
   ],
   "source": [
    "print(\"c=\")\n",
    "print(merged_matrix_vertical)"
   ]
  },
  {
   "cell_type": "code",
   "execution_count": 47,
   "id": "4528f598",
   "metadata": {},
   "outputs": [],
   "source": [
    "merged_matrix_horizontal = np.concatenate((a,b), axis=1)"
   ]
  },
  {
   "cell_type": "code",
   "execution_count": 48,
   "id": "ae3d6e37",
   "metadata": {},
   "outputs": [
    {
     "name": "stdout",
     "output_type": "stream",
     "text": [
      "d=\n",
      "[[1 2 5 6]\n",
      " [3 4 7 8]]\n"
     ]
    }
   ],
   "source": [
    "print(\"d=\")\n",
    "print(merged_matrix_horizontal)"
   ]
  },
  {
   "cell_type": "code",
   "execution_count": null,
   "id": "0a68e6b6",
   "metadata": {},
   "outputs": [],
   "source": []
  }
 ],
 "metadata": {
  "kernelspec": {
   "display_name": "Python 3 (ipykernel)",
   "language": "python",
   "name": "python3"
  },
  "language_info": {
   "codemirror_mode": {
    "name": "ipython",
    "version": 3
   },
   "file_extension": ".py",
   "mimetype": "text/x-python",
   "name": "python",
   "nbconvert_exporter": "python",
   "pygments_lexer": "ipython3",
   "version": "3.11.5"
  }
 },
 "nbformat": 4,
 "nbformat_minor": 5
}
